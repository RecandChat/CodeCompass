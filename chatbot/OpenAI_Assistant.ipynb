{
 "cells": [
  {
   "cell_type": "code",
   "execution_count": 14,
   "metadata": {},
   "outputs": [
    {
     "name": "stdout",
     "output_type": "stream",
     "text": [
      "\n",
      "\u001b[1m[\u001b[0m\u001b[34;49mnotice\u001b[0m\u001b[1;39;49m]\u001b[0m\u001b[39;49m A new release of pip is available: \u001b[0m\u001b[31;49m23.1.2\u001b[0m\u001b[39;49m -> \u001b[0m\u001b[32;49m24.0\u001b[0m\n",
      "\u001b[1m[\u001b[0m\u001b[34;49mnotice\u001b[0m\u001b[1;39;49m]\u001b[0m\u001b[39;49m To update, run: \u001b[0m\u001b[32;49mpip install --upgrade pip\u001b[0m\n"
     ]
    }
   ],
   "source": [
    "# install the latest version of the openai library\n",
    "!pip install openai -q --upgrade\n",
    "\n",
    "# imports\n",
    "from openai import OpenAI\n",
    "import json\n",
    "import time\n",
    "import requests"
   ]
  },
  {
   "cell_type": "code",
   "execution_count": 15,
   "metadata": {},
   "outputs": [],
   "source": [
    "# Load the OpenAI key from a file\n",
    "with open('../secrets/openAI_key', 'r') as file:\n",
    "    openAI_key = file.read().replace('\\n', '')\n",
    "\n",
    "# load the github token\n",
    "with open('../secrets/github_token', 'r') as file:\n",
    "    github_token = file.read().replace('\\n', '')"
   ]
  },
  {
   "cell_type": "code",
   "execution_count": 16,
   "metadata": {},
   "outputs": [],
   "source": [
    "# initalize the client\n",
    "client = OpenAI(\n",
    "    api_key = openAI_key\n",
    ")"
   ]
  },
  {
   "cell_type": "code",
   "execution_count": 17,
   "metadata": {},
   "outputs": [],
   "source": [
    "# Get repository structure\n",
    "\n",
    "def get_repo_structure(url, branch=None, relativePaths=None):\n",
    "    # URL of Askthecode API endpoint\n",
    "    get_repo_structure_url = \"https://gabriel.askthecode.ai/api/repository/structure\"\n",
    "\n",
    "    # parameters: url(required), branch(optional), relativePaths(optional)\n",
    "    params = {\n",
    "        'url': url,\n",
    "        'branch': branch,\n",
    "        'relativePaths': relativePaths\n",
    "    }\n",
    "\n",
    "    # headers\n",
    "    headers = {\n",
    "    \"accept\": \"application/json\",\n",
    "    \"Authorization\": f\"Bearer {github_token}\", \n",
    "    \"Content-Type\": \"application/json\"\n",
    "    }\n",
    "\n",
    "    # Make the post request\n",
    "    response = requests.post(get_repo_structure_url, json=params, headers=headers)\n",
    "\n",
    "    # check if the response is successful\n",
    "    if response.status_code == 200:\n",
    "        # Parsing the response JSON\n",
    "        structure_response = response.json()\n",
    "        # Return the response data instead of printing\n",
    "        return structure_response\n",
    "    \n",
    "    else:\n",
    "        print(f\"Failed to get the repository structure: {response.status_code}\")\n",
    "\n",
    "\n",
    "# test the function\n",
    "test_repo_structure_url = get_repo_structure(url=\"https://github.com/recommenders-team/recommenders\")"
   ]
  },
  {
   "cell_type": "markdown",
   "metadata": {},
   "source": [
    "### Assistant API"
   ]
  },
  {
   "cell_type": "code",
   "execution_count": 18,
   "metadata": {},
   "outputs": [],
   "source": [
    "tools = [{\n",
    "    \"type\": \"function\",\n",
    "    \"function\": {\n",
    "        \"name\": \"get_repo_structure\",\n",
    "            \"description\": \"Retrieves the Github repository file structure to analyze it and be able to query only relevant files. If the provided URL contains specific branch and directory information, prioritize using that over querying the entire repository structure.\",\n",
    "            \"parameters\": {\n",
    "                \"type\": \"object\",\n",
    "                \"properties\": {\n",
    "                    \"url\": {\n",
    "                        \"minLength\": 1,\n",
    "                        \"type\": \"string\",\n",
    "                        \"description\": \"Full Github repository URL provided by the user. For example: https://github.com/[owner]/[repo]/blob/[branch]/[file-path]#[additional-parameters]. The URL MUST be identical to the one, that was provided by the user, you MUST NEVER alter or truncate it. This is crucial for valid responses. You should NEVER truncate additional-parameters.\",\n",
    "                    },\n",
    "                    \"branch\": {\n",
    "                        \"type\": \"string\",\n",
    "                        \"description\": \"Repository branch. Provide only if user has explicitly specified it or the previous plugin response contains it.\",\n",
    "                        \"nullable\": True\n",
    "                    },\n",
    "                    \"relativePaths\": {\n",
    "                        \"type\": \"array\",\n",
    "                        \"items\": {\n",
    "                            \"type\": \"string\"\n",
    "                        },\n",
    "                        \"description\": \"Relative paths to retrieve. USE only paths you are certain that exist, NEVER invent them. If the provided URL contains a specific directory path, extract and use it. Otherwise, this should be a directory path or pattern only. Patterns accept * symbol as 'any substring'\",\n",
    "                        \"nullable\": True\n",
    "                    }\n",
    "            },\n",
    "            \"required\": [\"url\"],\n",
    "            \"aditinalProperties\": False}\n",
    "    }\n",
    "}\n",
    "# Add more tools here\n",
    "]"
   ]
  },
  {
   "cell_type": "code",
   "execution_count": 19,
   "metadata": {},
   "outputs": [],
   "source": [
    "# Create Assistant\n",
    "assistant = client.beta.assistants.create(\n",
    "    name = \"codecompass\",\n",
    "    instructions = \"You are a helpful assistant that analyzes code from github repositories and files when given a github url. You will answer questions about the structure of a repository, the content of a files, or any other code-related queries.\",\n",
    "    model = \"gpt-3.5-turbo-0125\",\n",
    "    tools = tools\n",
    ")\n"
   ]
  },
  {
   "cell_type": "code",
   "execution_count": 20,
   "metadata": {},
   "outputs": [],
   "source": [
    "# Utility function to create a message and run\n",
    "\n",
    "def create_message_and_run(assistant,query,thread=None):\n",
    "  if not thread:\n",
    "    thread = client.beta.threads.create()\n",
    "\n",
    "  message = client.beta.threads.messages.create(\n",
    "    thread_id=thread.id,\n",
    "    role=\"user\",\n",
    "    content=query\n",
    "  )\n",
    "  run = client.beta.threads.runs.create(\n",
    "  thread_id=thread.id,\n",
    "  assistant_id=assistant.id\n",
    "  )\n",
    "  return run,thread\n",
    "\n",
    "# Utility function to get details of function to be called\n",
    "\n",
    "def get_function_details(run):\n",
    "\n",
    "  print(\"\\nrun.required_action\\n\",run.required_action)\n",
    "\n",
    "  function_name = run.required_action.submit_tool_outputs.tool_calls[0].function.name\n",
    "  arguments = run.required_action.submit_tool_outputs.tool_calls[0].function.arguments\n",
    "  function_id = run.required_action.submit_tool_outputs.tool_calls[0].id\n",
    "\n",
    "  print(f\"function_name: {function_name} and arguments: {arguments}\")\n",
    "\n",
    "  return function_name, arguments, function_id\n",
    "\n",
    "# Utility function to submit the function response\n",
    "\n",
    "def submit_tool_outputs(run,thread,function_id,function_response):\n",
    "    run = client.beta.threads.runs.submit_tool_outputs(\n",
    "    thread_id=thread.id,\n",
    "    run_id=run.id,\n",
    "    tool_outputs=[\n",
    "      {\n",
    "        \"tool_call_id\": function_id,\n",
    "        \"output\": str(function_response),\n",
    "      }\n",
    "    ]\n",
    "    ) \n",
    "    return run\n",
    "\n",
    "available_functions = {\n",
    "    \"get_repo_structure\": get_repo_structure\n",
    "}\n",
    "\n",
    "def get_gpt_response(messages):\n",
    "    chat_completion = client.chat.completions.create(\n",
    "        model = \"gpt-3.5-turbo-0125\",\n",
    "        messages = messages,\n",
    "        functions = functions,\n",
    "        function_call = \"auto\"\n",
    "    )\n",
    "    return chat_completion\n",
    "\n",
    "# execute the function\n",
    "\n",
    "def execute_function_call(function_name,arguments):\n",
    "    function = available_functions.get(function_name,None)\n",
    "    if function:\n",
    "        arguments = json.loads(arguments)\n",
    "        results = function(**arguments)\n",
    "    else:\n",
    "        results = f\"Error: function {function_name} does not exist\"\n",
    "    return results"
   ]
  },
  {
   "cell_type": "code",
   "execution_count": 21,
   "metadata": {},
   "outputs": [],
   "source": [
    "# test\n",
    "query = \"I want to know about my repository\"\n",
    "run,thread = create_message_and_run(assistant = assistant ,query = query)"
   ]
  },
  {
   "cell_type": "code",
   "execution_count": 22,
   "metadata": {},
   "outputs": [
    {
     "data": {
      "text/plain": [
       "Run(id='run_0B1Ztn8uLfT6avTKrST2sQCB', assistant_id='asst_0GaZgPwWJP4FGzzC1ZANrPPt', cancelled_at=None, completed_at=None, created_at=1711316152, expires_at=1711316752, failed_at=None, file_ids=[], instructions='You are a helpful assistant that analyzes code from github repositories and files when given a github url. You will answer questions about the structure of a repository, the content of a files, or any other code-related queries.', last_error=None, metadata={}, model='gpt-3.5-turbo-0125', object='thread.run', required_action=None, started_at=None, status='queued', thread_id='thread_hSF4rTetwjfVJzCN2AdZQx8F', tools=[FunctionTool(function=FunctionDefinition(name='get_repo_structure', description='Retrieves the Github repository file structure to analyze it and be able to query only relevant files. If the provided URL contains specific branch and directory information, prioritize using that over querying the entire repository structure.', parameters={'type': 'object', 'properties': {'url': {'minLength': 1, 'type': 'string', 'description': 'Full Github repository URL provided by the user. For example: https://github.com/[owner]/[repo]/blob/[branch]/[file-path]#[additional-parameters]. The URL MUST be identical to the one, that was provided by the user, you MUST NEVER alter or truncate it. This is crucial for valid responses. You should NEVER truncate additional-parameters.'}, 'branch': {'type': 'string', 'description': 'Repository branch. Provide only if user has explicitly specified it or the previous plugin response contains it.', 'nullable': True}, 'relativePaths': {'type': 'array', 'items': {'type': 'string'}, 'description': \"Relative paths to retrieve. USE only paths you are certain that exist, NEVER invent them. If the provided URL contains a specific directory path, extract and use it. Otherwise, this should be a directory path or pattern only. Patterns accept * symbol as 'any substring'\", 'nullable': True}}, 'required': ['url'], 'aditinalProperties': False}), type='function')], usage=None)"
      ]
     },
     "execution_count": 22,
     "metadata": {},
     "output_type": "execute_result"
    }
   ],
   "source": [
    "run"
   ]
  },
  {
   "cell_type": "code",
   "execution_count": 23,
   "metadata": {},
   "outputs": [
    {
     "name": "stdout",
     "output_type": "stream",
     "text": [
      "run status in_progress\n",
      "run status in_progress\n",
      "run status requires_action\n",
      "\n",
      "run.required_action\n",
      " RequiredAction(submit_tool_outputs=RequiredActionSubmitToolOutputs(tool_calls=[RequiredActionFunctionToolCall(id='call_i1JD96MHz4xVXB69mOgFVBsK', function=Function(arguments='{\"url\":\"https://github.com/sidravi1/repository-analysis\"}', name='get_repo_structure'), type='function')]), type='submit_tool_outputs')\n",
      "function_name: get_repo_structure and arguments: {\"url\":\"https://github.com/sidravi1/repository-analysis\"}\n",
      "run status in_progress\n",
      "run status in_progress\n",
      "run status completed\n",
      "I encountered an error while trying to retrieve information about the repository. It seems that the requested repository or branch is not found. Please verify that the provided URL is valid. If the repository is private, ensure that you are using GitHub authentication when interacting with AskTheCode plugin. You can also visit our [website](https://askthecode.ai) or [documentation](https://docs.askthecode.ai) for more information.\n",
      "run status in_progress\n",
      "run status completed\n",
      "Sure, feel free to reach out if you have any more questions in the future. Have a great day!\n"
     ]
    }
   ],
   "source": [
    "while True:\n",
    "    run = client.beta.threads.runs.retrieve(thread_id=thread.id, run_id=run.id) # retrieve the run status from the thread we created in the previous cell\n",
    "    print(\"run status\", run.status)\n",
    "\n",
    "    if run.status==\"requires_action\":\n",
    "\n",
    "        function_name, arguments, function_id  = get_function_details(run)\n",
    "\n",
    "        function_response = execute_function_call(function_name,arguments)\n",
    "\n",
    "        run = submit_tool_outputs(run,thread,function_id,function_response)\n",
    "\n",
    "        continue\n",
    "    if run.status==\"completed\": # means gpt has an output\n",
    "\n",
    "        messages = client.beta.threads.messages.list(thread_id=thread.id)\n",
    "        latest_message = messages.data[0]\n",
    "        text = latest_message.content[0].text.value\n",
    "        print(text)\n",
    "\n",
    "        user_input = input()\n",
    "        if user_input == \"STOP\":\n",
    "          break\n",
    "\n",
    "        run,thread = create_message_and_run(assistant=assistant,query=user_input,thread=thread)\n",
    "\n",
    "        continue;\n",
    "    time.sleep(1)"
   ]
  }
 ],
 "metadata": {
  "kernelspec": {
   "display_name": ".venv",
   "language": "python",
   "name": "python3"
  },
  "language_info": {
   "codemirror_mode": {
    "name": "ipython",
    "version": 3
   },
   "file_extension": ".py",
   "mimetype": "text/x-python",
   "name": "python",
   "nbconvert_exporter": "python",
   "pygments_lexer": "ipython3",
   "version": "3.11.3"
  }
 },
 "nbformat": 4,
 "nbformat_minor": 2
}
