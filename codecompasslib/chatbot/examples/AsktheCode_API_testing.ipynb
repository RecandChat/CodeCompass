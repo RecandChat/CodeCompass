{
 "cells": [
  {
   "cell_type": "code",
   "execution_count": 3,
   "metadata": {},
   "outputs": [],
   "source": [
    "# Imports\n",
    "import requests"
   ]
  },
  {
   "cell_type": "code",
   "execution_count": 4,
   "metadata": {},
   "outputs": [],
   "source": [
    "# load the github token\n",
    "with open('../secrets/github_token', 'r') as file:\n",
    "    github_token = file.read().replace('\\n', '')"
   ]
  },
  {
   "cell_type": "code",
   "execution_count": 5,
   "metadata": {},
   "outputs": [],
   "source": [
    "# Variables\n",
    "structure_API = \"https://gabriel.askthecode.ai/api/repository/structure\"\n",
    "content_API = \"https://gabriel.askthecode.ai/api/repository/content\"\n",
    "search_API = \"https://gabriel.askthecode.ai/api/search/repository/code\"\n",
    "\n",
    "# headers\n",
    "headers = {\n",
    "    \"accept\": \"application/json\",\n",
    "    \"Authorization\": f\"Bearer {github_token}\", \n",
    "    \"Content-Type\": \"application/json\"\n",
    "}\n",
    "\n",
    "# example repository\n",
    "repository = \"https://github.com/gabrieldeolaguibel/gabrieldeolaguibel\""
   ]
  },
  {
   "cell_type": "code",
   "execution_count": 6,
   "metadata": {},
   "outputs": [
    {
     "name": "stdout",
     "output_type": "stream",
     "text": [
      "{'branchName': 'main', 'files': ['README.md'], 'assistantNextSteps': '1. Thoroughly analyze the repository structure and try to make some assumptions on the content of each file.2. Request contents of no more than 20 files. Order them by relevance descending. ', 'usefulUrls': {'websiteUrl': 'https://askthecode.ai', 'documentationUrl': 'https://docs.askthecode.ai', 'githubUrl': 'https://github.com/askthecode/documentation', 'twitterUrl': 'https://twitter.com/askthecode_ai'}}\n"
     ]
    }
   ],
   "source": [
    "# Get repository structure\n",
    "\n",
    "# The request body with the repository URL\n",
    "request_body = {\n",
    "    \"url\": repository\n",
    "}\n",
    "\n",
    "# Sending a POST request to the API with headers\n",
    "response = requests.post(structure_API, json=request_body, headers=headers)\n",
    "\n",
    "# Checking if the request was successful\n",
    "if response.status_code == 200:\n",
    "    # Parsing the response JSON\n",
    "    structure_response = response.json()\n",
    "    \n",
    "    # Printing the response data\n",
    "    print(structure_response)"
   ]
  },
  {
   "cell_type": "code",
   "execution_count": 7,
   "metadata": {},
   "outputs": [
    {
     "name": "stdout",
     "output_type": "stream",
     "text": [
      "['README.md']\n"
     ]
    }
   ],
   "source": [
    "print(structure_response['files'])"
   ]
  },
  {
   "cell_type": "code",
   "execution_count": 8,
   "metadata": {},
   "outputs": [
    {
     "name": "stdout",
     "output_type": "stream",
     "text": [
      "{'branchName': 'main', 'files': [{'path': 'README.md', 'content': '<p align=\"center\">\\n  <img src=\"https://i.ibb.co/RQypWkS/Black-Yellow-And-Green-Modern-Sales-Manager-Linked-In-Article-Cover-Image-1.png\" alt=\"Gabriel de Olaguibel\\'s Banner\" width=\"100%\">\\n</p>\\n\\n<h1 align=\"center\">Hello! 👋</h1>\\n\\n<p align=\"center\">\\n  <a href=\"https://www.linkedin.com/in/gabrieldeolaguibel\" target=\"_blank\"><img src=\"https://img.shields.io/badge/LinkedIn-%230077B5.svg?&style=for-the-badge&logo=linkedin&logoColor=white\" alt=\"LinkedIn\"></a>&nbsp;\\n  <a href=\"mailto:gdeolaguibel.ieu2021@student.ie.edu\"><img src=\"https://img.shields.io/badge/Email-D14836?style=for-the-badge&logo=gmail&logoColor=white\" alt=\"Email\"></a>\\n</p>\\n\\n<p align=\"center\">Motivated student, passionate about Computer Science, Artificial Intelligence, Data Science, and financial analysis looking to pursue a career in the field. Proficient in predictive modeling, data simulation, cloud computing, scripting languages, and programming languages. Capable of creating, developing, testing, and deploying highly adaptive data solutions across business cases.</p>\\n\\n## 📚 Education\\n\\n- **Bachelors in Computer Science and Artificial Intelligence** at *IE University* (Expected: May 2025)\\n- **Distinguished HS Diploma** at *Cedar Ridge High School* (Graduated: 2021)\\n\\n## 🏆 Certifications\\n\\n- Azure Fundamentals\\n- Azure AI Fundamentals\\n- IBM Accelerate Software Development\\n- Celonis Process mining fundamentals\\n- IE Coding and Big data SQL\\n\\n## 🛠️ Technologies & Tools\\n\\n<!-- Icons from: https://simpleicons.org/ -->\\n\\n<p>\\n  <img alt=\"Python\" src=\"https://img.shields.io/badge/-Python-3776AB?style=for-the-badge&logo=python&logoColor=white\" />\\n  <img alt=\"C++\" src=\"https://img.shields.io/badge/-C++-00599C?style=for-the-badge&logo=c%2B%2B&logoColor=white\" />\\n  <img alt=\"SQL\" src=\"https://img.shields.io/badge/-SQL-4479A1?style=for-the-badge&logo=postgresql&logoColor=white\" />\\n  <img alt=\"Linux\" src=\"https://img.shields.io/badge/-Linux-FCC624?style=for-the-badge&logo=linux&logoColor=black\" />\\n  <img alt=\"GitHub\" src=\"https://img.shields.io/badge/-GitHub-181717?style=for-the-badge&logo=github\" />\\n  <img alt=\"Azure\" src=\"https://img.shields.io/badge/-Azure-0089D6?style=for-the-badge&logo=microsoft-azure&logoColor=white\" />\\n  <img alt=\"Celonis\" src=\"https://img.shields.io/badge/-Process%20Mining-3FA2C6?style=for-the-badge&logo=celonis&logoColor=white\" />\\n  <img alt=\"RStudio\" src=\"https://img.shields.io/badge/-RStudio-75AADB?style=for-the-badge&logo=rstudio&logoColor=white\" />\\n  <img alt=\"Docker\" src=\"https://img.shields.io/badge/-Docker-2496ED?style=for-the-badge&logo=docker&logoColor=white\" />\\n  <img alt=\"BeautifulSoup\" src=\"https://img.shields.io/badge/-Web%20Scraping-ffca28?style=for-the-badge&logo=beautifulsoup&logoColor=black\" />\\n  <img alt=\"Pandas\" src=\"https://img.shields.io/badge/-Pandas-150458?style=for-the-badge&logo=pandas&logoColor=white\" />\\n  <img alt=\"Matplotlib\" src=\"https://img.shields.io/badge/-Matplotlib-013E73?style=for-the-badge&logo=matplotlib&logoColor=white\" />\\n  <img alt=\"ScikitLearn\" src=\"https://img.shields.io/badge/-ScikitLearn-F7931E?style=for-the-badge&logo=scikit-learn&logoColor=white\" />\\n  <img alt=\"TensorFlow\" src=\"https://img.shields.io/badge/-TensorFlow-FF6F00?style=for-the-badge&logo=tensorflow&logoColor=white\" />\\n</p>\\n\\n## 🚀 Current GitHub Projects\\n\\n<p align=\"center\">\\n  <table>\\n    <tr>\\n      <td>\\n        <a href=\"https://github.com/gabrieldeolaguibel/Economic-News-Webscraper\">\\n          <img src=\"https://github-readme-stats.vercel.app/api/pin/?username=gabrieldeolaguibel&repo=Economic-News-Webscraper\" width=\"380\" />\\n        </a>\\n      </td>\\n      <td>\\n        <a href=\"https://github.com/gabrieldeolaguibel/Connect-4\">\\n          <img src=\"https://github-readme-stats.vercel.app/api/pin/?username=gabrieldeolaguibel&repo=Connect-4\" width=\"380\" />\\n        </a>\\n      </td>\\n    </tr>\\n  </table>\\n</p>\\n\\n## 📈 GitHub Stats\\n\\n<p align=\"center\">\\n  <img src=\"https://github-readme-stats.vercel.app/api?username=gabrieldeolaguibel&show_icons=true&theme=tokyonight\" alt=\"GitHub Stat\" width=\"45%\" />\\n</p>\\n\\n'}], 'assistantNextSteps': '1. Analyze if the answer to the user question is contained in the returned files. 2. If yes, print the response to the user. If not, try to request the contents of another files.', 'usefulUrls': {'websiteUrl': 'https://askthecode.ai', 'documentationUrl': 'https://docs.askthecode.ai', 'githubUrl': 'https://github.com/askthecode/documentation', 'twitterUrl': 'https://twitter.com/askthecode_ai'}}\n"
     ]
    }
   ],
   "source": [
    "# File contents\n",
    "\n",
    "# The request body with the repository URL and the file paths\n",
    "request_body = {\n",
    "    \"url\": repository,\n",
    "    \"filePaths\": structure_response['files']\n",
    "}\n",
    "\n",
    "# Sending a POST request to the API with headers\n",
    "response = requests.post(content_API, json=request_body, headers=headers)\n",
    "\n",
    "# Checking if the request was successful\n",
    "if response.status_code == 200:\n",
    "    # Parsing the response JSON\n",
    "    response_data = response.json()\n",
    "    \n",
    "    # Printing the response data\n",
    "    print(response_data)\n",
    "else:\n",
    "    print(\"Failed to retrieve the repository content. Status code:\", response.status_code)\n"
   ]
  },
  {
   "cell_type": "code",
   "execution_count": 11,
   "metadata": {},
   "outputs": [
    {
     "name": "stdout",
     "output_type": "stream",
     "text": [
      "{'branchName': 'main', 'searchResults': [{'path': 'README.md', 'matches': ['\\n## 🏆 Certifications\\n\\n- Azure Fundamentals\\n- Azure AI Fundamentals\\n- IBM Accelerate Software Development\\n- Celonis Process mining fundamentals\\n']}], 'assistantNextSteps': '1. Analyze the response and returned matches.2. If they answer users question, print the response. If not, try to either search with different keywords, or try to get the full file contents.', 'usefulUrls': {'websiteUrl': 'https://askthecode.ai', 'documentationUrl': 'https://docs.askthecode.ai', 'githubUrl': 'https://github.com/askthecode/documentation', 'twitterUrl': 'https://twitter.com/askthecode_ai'}}\n"
     ]
    }
   ],
   "source": [
    "# keyword search\n",
    "\n",
    "# The GitHub repository URL you want to search within, and the search keywords\n",
    "search_keywords = [\"Azure\"]\n",
    "\n",
    "# The request body with the repository URL and the search keywords\n",
    "request_body = {\n",
    "    \"url\": repository,\n",
    "    \"searchKeywords\": search_keywords\n",
    "}\n",
    "\n",
    "# Sending a POST request to the API with headers\n",
    "response = requests.post(search_API, json=request_body, headers=headers)\n",
    "\n",
    "# Checking if the request was successful\n",
    "if response.status_code == 200:\n",
    "    # Parsing the response JSON\n",
    "    response_data = response.json()\n",
    "    \n",
    "    # Printing the search results\n",
    "    print(response_data)\n",
    "else:\n",
    "    print(\"Failed to search the repository code. Status code:\", response.status_code)\n"
   ]
  }
 ],
 "metadata": {
  "kernelspec": {
   "display_name": "Python 3",
   "language": "python",
   "name": "python3"
  },
  "language_info": {
   "codemirror_mode": {
    "name": "ipython",
    "version": 3
   },
   "file_extension": ".py",
   "mimetype": "text/x-python",
   "name": "python",
   "nbconvert_exporter": "python",
   "pygments_lexer": "ipython3",
   "version": "3.11.3"
  }
 },
 "nbformat": 4,
 "nbformat_minor": 2
}
