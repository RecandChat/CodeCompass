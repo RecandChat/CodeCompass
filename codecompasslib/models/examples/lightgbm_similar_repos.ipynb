{
 "cells": [
  {
   "cell_type": "markdown",
   "metadata": {},
   "source": [
    "# LightGBM model"
   ]
  },
  {
   "cell_type": "markdown",
   "metadata": {},
   "source": [
    "### Import libraries"
   ]
  },
  {
   "cell_type": "code",
   "execution_count": 1,
   "metadata": {},
   "outputs": [
    {
     "name": "stderr",
     "output_type": "stream",
     "text": [
      "c:\\Users\\ketis\\anaconda3\\envs\\codecompassvenv\\lib\\site-packages\\tqdm\\auto.py:21: TqdmWarning: IProgress not found. Please update jupyter and ipywidgets. See https://ipywidgets.readthedocs.io/en/stable/user_install.html\n",
      "  from .autonotebook import tqdm as notebook_tqdm\n"
     ]
    },
    {
     "name": "stdout",
     "output_type": "stream",
     "text": [
      "Token loaded successfully.\n"
     ]
    }
   ],
   "source": [
    "import sys\n",
    "\n",
    "# go up two directories\n",
    "sys.path.append('../../../')\n",
    "\n",
    "# Import necessary functions from codecompasslib\n",
    "from codecompasslib.models.lightgbm_model import generate_lightGBM_recommendations, load_data"
   ]
  },
  {
   "cell_type": "markdown",
   "metadata": {},
   "source": [
    "### Load the datasets"
   ]
  },
  {
   "cell_type": "code",
   "execution_count": 2,
   "metadata": {},
   "outputs": [
    {
     "name": "stdout",
     "output_type": "stream",
     "text": [
      "\n",
      "Download 11%.\n",
      "\n",
      "Download 23%.\n",
      "\n",
      "Download 35%.\n",
      "\n",
      "Download 47%.\n",
      "\n",
      "Download 59%.\n",
      "\n",
      "Download 71%.\n",
      "\n",
      "Download 83%.\n",
      "\n",
      "Download 95%.\n",
      "\n",
      "Download 100%.\n"
     ]
    },
    {
     "name": "stderr",
     "output_type": "stream",
     "text": [
      "c:\\Users\\ketis\\UniversityStuff\\2024\\RecAndChat\\CodeCompass\\codecompasslib\\models\\examples\\../../..\\codecompasslib\\API\\drive_operations.py:88: DtypeWarning: Columns (6,11,12,15,16,17,18,19,20,21,22,23,24) have mixed types. Specify dtype option on import or set low_memory=False.\n",
      "  return read_csv(fh)\n"
     ]
    },
    {
     "name": "stdout",
     "output_type": "stream",
     "text": [
      "\n",
      "Download 4%.\n",
      "\n",
      "Download 8%.\n",
      "\n",
      "Download 12%.\n",
      "\n",
      "Download 16%.\n",
      "\n",
      "Download 20%.\n",
      "\n",
      "Download 24%.\n",
      "\n",
      "Download 28%.\n",
      "\n",
      "Download 32%.\n",
      "\n",
      "Download 36%.\n",
      "\n",
      "Download 40%.\n",
      "\n",
      "Download 44%.\n",
      "\n",
      "Download 49%.\n",
      "\n",
      "Download 53%.\n",
      "\n",
      "Download 57%.\n",
      "\n",
      "Download 61%.\n",
      "\n",
      "Download 65%.\n",
      "\n",
      "Download 69%.\n",
      "\n",
      "Download 73%.\n",
      "\n",
      "Download 77%.\n",
      "\n",
      "Download 81%.\n",
      "\n",
      "Download 85%.\n",
      "\n",
      "Download 89%.\n",
      "\n",
      "Download 94%.\n",
      "\n",
      "Download 98%.\n",
      "\n",
      "Download 100%.\n",
      "Data loaded\n"
     ]
    }
   ],
   "source": [
    "full_data_folder_id = '1Qiy9u03hUthqaoBDr4VQqhKwtLJ2O3Yd'\n",
    "full_data_embedded_folder_id = '139wi78iRzhwGZwxmI5WALoYocR-Rk9By'\n",
    "\n",
    "df_non_embedded, df_embedded = load_data(full_data_folder_id, full_data_embedded_folder_id)"
   ]
  },
  {
   "cell_type": "markdown",
   "metadata": {},
   "source": [
    "### Utilize LightGBM model"
   ]
  },
  {
   "cell_type": "code",
   "execution_count": 3,
   "metadata": {},
   "outputs": [],
   "source": [
    "# choosing a target user to generate recommendations for\n",
    "target_user = 'Rameshwar0852'"
   ]
  },
  {
   "cell_type": "code",
   "execution_count": 9,
   "metadata": {},
   "outputs": [
    {
     "name": "stdout",
     "output_type": "stream",
     "text": [
      "Training LightGBM model\n",
      "[LightGBM] [Info] Number of positive: 8, number of negative: 976063\n",
      "[LightGBM] [Info] Auto-choosing col-wise multi-threading, the overhead of testing was 0.516589 seconds.\n",
      "You can set `force_col_wise=true` to remove the overhead.\n",
      "[LightGBM] [Info] Total Bins 65768\n",
      "[LightGBM] [Info] Number of data points in the train set: 976071, number of used features: 258\n",
      "[LightGBM] [Info] [binary:BoostFromScore]: pavg=0.000008 -> initscore=-11.711841\n",
      "[LightGBM] [Info] Start training from score -11.711841\n",
      "[LightGBM] [Warning] No further splits with positive gain, best gain: -inf\n",
      "Training until validation scores don't improve for 20 rounds\n",
      "[LightGBM] [Warning] No further splits with positive gain, best gain: -inf\n",
      "Early stopping, best iteration is:\n",
      "[7]\tvalid_0's auc: 0.873331\n"
     ]
    }
   ],
   "source": [
    "# Generate recommendations for the target user\n",
    "recommendations = generate_lightGBM_recommendations(target_user, df_non_embedded, df_embedded, number_of_recommendations=10)"
   ]
  },
  {
   "cell_type": "code",
   "execution_count": 11,
   "metadata": {},
   "outputs": [
    {
     "name": "stdout",
     "output_type": "stream",
     "text": [
      "Recommendation 1:\n",
      "Name: Back-Front_WebCodeTricks\n",
      "Description: Projeto de TG\n",
      "Link: https://github.com/adolfosp/Back-Front_WebCodeTricks\n",
      "Recommendation 2:\n",
      "Name: Peerage\n",
      "Description: A quick coat-of-arms (or blazon) generator\n",
      "Link: https://github.com/r2d2m/Peerage\n",
      "Recommendation 3:\n",
      "Name: Loteria\n",
      "Description: Apuração de jogos de loteria.\n",
      "Link: https://github.com/MelqSantos/Loteria\n",
      "Recommendation 4:\n",
      "Name: Web_Learning\n",
      "Description: Aprendiendo a programar con el grone\n",
      "Link: https://github.com/mefsaal/Web_Learning\n",
      "Recommendation 5:\n",
      "Name: sack\n",
      "Description: s(hortcut)-ack: a faster way to use ag, ack (or grep)!\n",
      "Link: https://github.com/hwgao/sack\n",
      "Recommendation 6:\n",
      "Name: computer-vision\n",
      "Description: Hacker's guide to computer vision\n",
      "Link: https://github.com/batermj/computer-vision\n",
      "Recommendation 7:\n",
      "Name: BabyNamer\n",
      "Description: A tool to help you choose a baby name\n",
      "Link: https://github.com/cortesoft/BabyNamer\n",
      "Recommendation 8:\n",
      "Name: repaso\n",
      "Description: programa para generar 5 numeros aleatorios\n",
      "Link: https://github.com/FlorencioQuelca/repaso\n",
      "Recommendation 9:\n",
      "Name: Deep-Learning-Image-Captioning\n",
      "Description: Implementing convolutional and recurrent neural networks in Keras to generate sentence descriptions of images\n",
      "Link: https://github.com/jgabriellima/Deep-Learning-Image-Captioning\n",
      "Recommendation 10:\n",
      "Name: contadoremdowhile\n",
      "Description: Programa que conta de 1 até 10 em C usando do while \n",
      "Link: https://github.com/andressasmpacheco/contadoremdowhile\n"
     ]
    }
   ],
   "source": [
    "# Display the recommendations\n",
    "for index, repo in enumerate(recommendations):\n",
    "    name = df_non_embedded[df_non_embedded['id'] == repo[0]]['name'].values[0]\n",
    "    description = df_non_embedded[df_non_embedded['id'] == repo[0]]['description'].values[0]\n",
    "    link = f\"https://github.com/{repo[1]}/{name}\"\n",
    "    \n",
    "    print(f\"Recommendation {index + 1}:\")\n",
    "    print(f\"Name: {name}\")\n",
    "    print(f\"Description: {description}\")\n",
    "    print(f\"Link: {link}\")"
   ]
  }
 ],
 "metadata": {
  "kernelspec": {
   "display_name": "Python 3",
   "language": "python",
   "name": "python3"
  },
  "language_info": {
   "codemirror_mode": {
    "name": "ipython",
    "version": 3
   },
   "file_extension": ".py",
   "mimetype": "text/x-python",
   "name": "python",
   "nbconvert_exporter": "python",
   "pygments_lexer": "ipython3",
   "version": "3.9.18"
  }
 },
 "nbformat": 4,
 "nbformat_minor": 2
}
