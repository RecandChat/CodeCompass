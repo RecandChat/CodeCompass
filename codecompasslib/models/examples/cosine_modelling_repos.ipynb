{
 "cells": [
  {
   "cell_type": "markdown",
   "metadata": {},
   "source": [
    "# This is a working model using cosine similarities to recommend repositories\n",
    "* Using the cosine similarity between repositories, we can recommend repositories to users who prefer a specific language type.\n",
    "* For instance, if a user prefers Python with computer vision, we can recommend repositories that are python and computer vision-related, and so on.\n",
    "\n",
    "**To implement:** \n",
    "\n",
    "* It would be great to add more user info, such as preferred sub-topics sing the `topics` column, and so on."
   ]
  },
  {
   "cell_type": "markdown",
   "metadata": {},
   "source": [
    "### TF-IDF Vectorization\n",
    "TF-IDF (Term Frequency-Inverse Document Frequency) is a numerical statistic that reflects the importance of a term in a document within a collection or corpus.\n",
    "\n",
    "The TF-IDF value of a term is calculated by multiplying two factors: term frequency (TF) and inverse document frequency (IDF).\n",
    "\n",
    "1. Term Frequency (TF): Term frequency measures the frequency of a term within a document. It is calculated by dividing the number of occurrences of a term in a document by the total number of terms in that document. \n",
    "\n",
    "- TF(t, d) = (Number of occurrences of term t in document d) / (Total number of terms in document d)\n",
    "\n",
    "2. verse Document Frequency (IDF): Inverse document frequency measures the rarity of a term across the entire corpus. It is calculated by taking the logarithm of the total number of documents divided by the number of documents containing the term. \n",
    "\n",
    "- IDF(t) = log((Total number of documents) / (Number of documents containing term t))\n",
    "\n",
    "Once we have the TF and IDF values for each term in a document, we can calculate the TF-IDF value by multiplying them together:\n",
    "\n",
    "TF-IDF(t, d) = TF(t, d) * IDF(t)\n",
    "\n",
    "In our project, we are using TF-IDF to vectorize textual data. Vectorization is the process of converting text into numerical vectors that machine learning algorithms can understand. By representing documents as TF-IDF vectors, we can capture the importance of different terms within each document and compare documents based on their content."
   ]
  },
  {
   "cell_type": "markdown",
   "metadata": {},
   "source": [
    "### Cosine Similarity Explanation: \n",
    "Cosine similarity is a measure of similarity between two vectors in a multi-dimensional space. It calculates the cosine of the angle between the two vectors, which represents their similarity. The value of cosine similarity ranges from -1 to 1, where 1 indicates that the vectors are identical, 0 indicates that the vectors are orthogonal (completely dissimilar), and -1 indicates that the vectors are diametrically opposed. To calculate the cosine similarity, you need to compute the dot product of the two vectors and divide it by the product of their magnitudes.\n",
    "\n",
    "In the context of this project, we are representing the textual preferences of the user and repositories as vectors. Each vector represents the frequency or presence of certain words or features in the textual data. By calculating the cosine similarity between the user's entered textual preference vector and the repository vectors, we can determine how similar they are. Then we rank repos by similarity score and recommend the top few ones."
   ]
  },
  {
   "cell_type": "code",
   "execution_count": 2,
   "metadata": {},
   "outputs": [],
   "source": [
    "import sys\n",
    "import pandas as pd\n",
    "from pandas import DataFrame\n",
    "# go up two directories\n",
    "sys.path.append('../../../')\n",
    "\n",
    "from codecompasslib.models.cosine_similarity_model import load_data, clean_data, recommend_repos"
   ]
  },
  {
   "cell_type": "code",
   "execution_count": 3,
   "metadata": {},
   "outputs": [
    {
     "name": "stdout",
     "output_type": "stream",
     "text": [
      "\n",
      "Download 11%.\n",
      "\n",
      "Download 23%.\n",
      "\n",
      "Download 35%.\n",
      "\n",
      "Download 47%.\n",
      "\n",
      "Download 59%.\n",
      "\n",
      "Download 71%.\n",
      "\n",
      "Download 83%.\n",
      "\n",
      "Download 95%.\n",
      "\n",
      "Download 100%.\n"
     ]
    },
    {
     "name": "stderr",
     "output_type": "stream",
     "text": [
      "c:\\Users\\ketis\\UniversityStuff\\2024\\RecAndChat\\CodeCompass\\codecompasslib\\models\\examples\\../../..\\codecompasslib\\API\\drive_operations.py:88: DtypeWarning: Columns (6,11,12,15,16,17,18,19,20,21,22,23,24) have mixed types. Specify dtype option on import or set low_memory=False.\n",
      "  return read_csv(fh)\n"
     ]
    }
   ],
   "source": [
    "# load the data\n",
    "df = load_data('1Qiy9u03hUthqaoBDr4VQqhKwtLJ2O3Yd')"
   ]
  },
  {
   "cell_type": "code",
   "execution_count": 8,
   "metadata": {},
   "outputs": [
    {
     "name": "stderr",
     "output_type": "stream",
     "text": [
      "c:\\Users\\ketis\\UniversityStuff\\2024\\RecAndChat\\CodeCompass\\codecompasslib\\models\\examples\\../../..\\codecompasslib\\models\\cosine_similarity_model.py:58: SettingWithCopyWarning: \n",
      "A value is trying to be set on a copy of a slice from a DataFrame.\n",
      "Try using .loc[row_indexer,col_indexer] = value instead\n",
      "\n",
      "See the caveats in the documentation: https://pandas.pydata.org/pandas-docs/stable/user_guide/indexing.html#returning-a-view-versus-a-copy\n",
      "  df['description'] = df['description'].fillna('')\n",
      "c:\\Users\\ketis\\UniversityStuff\\2024\\RecAndChat\\CodeCompass\\codecompasslib\\models\\examples\\../../..\\codecompasslib\\models\\cosine_similarity_model.py:59: SettingWithCopyWarning: \n",
      "A value is trying to be set on a copy of a slice from a DataFrame.\n",
      "Try using .loc[row_indexer,col_indexer] = value instead\n",
      "\n",
      "See the caveats in the documentation: https://pandas.pydata.org/pandas-docs/stable/user_guide/indexing.html#returning-a-view-versus-a-copy\n",
      "  df['name'] = df['name'].fillna('')\n",
      "c:\\Users\\ketis\\UniversityStuff\\2024\\RecAndChat\\CodeCompass\\codecompasslib\\models\\examples\\../../..\\codecompasslib\\models\\cosine_similarity_model.py:60: SettingWithCopyWarning: \n",
      "A value is trying to be set on a copy of a slice from a DataFrame.\n",
      "Try using .loc[row_indexer,col_indexer] = value instead\n",
      "\n",
      "See the caveats in the documentation: https://pandas.pydata.org/pandas-docs/stable/user_guide/indexing.html#returning-a-view-versus-a-copy\n",
      "  df['language'] = df['language'].fillna('')\n"
     ]
    }
   ],
   "source": [
    "# turn df into DataFrame type and clean it\n",
    "df = pd.DataFrame(df)\n",
    "df_cleaned = clean_data(df)"
   ]
  },
  {
   "cell_type": "code",
   "execution_count": 6,
   "metadata": {},
   "outputs": [],
   "source": [
    "# User preference (textual input)\n",
    "user_preference = \"python with computer vision\""
   ]
  },
  {
   "cell_type": "code",
   "execution_count": 7,
   "metadata": {},
   "outputs": [
    {
     "name": "stderr",
     "output_type": "stream",
     "text": [
      "c:\\Users\\ketis\\UniversityStuff\\2024\\RecAndChat\\CodeCompass\\codecompasslib\\models\\examples\\../../..\\codecompasslib\\models\\cosine_similarity_model.py:93: SettingWithCopyWarning: \n",
      "A value is trying to be set on a copy of a slice from a DataFrame.\n",
      "Try using .loc[row_indexer,col_indexer] = value instead\n",
      "\n",
      "See the caveats in the documentation: https://pandas.pydata.org/pandas-docs/stable/user_guide/indexing.html#returning-a-view-versus-a-copy\n",
      "  df['cosine_similarity_score'] = cosine_scores\n"
     ]
    }
   ],
   "source": [
    "recommended_repos = recommend_repos(user_preference, df_cleaned, top_n=10)"
   ]
  },
  {
   "cell_type": "code",
   "execution_count": 13,
   "metadata": {},
   "outputs": [
    {
     "data": {
      "text/html": [
       "<div>\n",
       "<style scoped>\n",
       "    .dataframe tbody tr th:only-of-type {\n",
       "        vertical-align: middle;\n",
       "    }\n",
       "\n",
       "    .dataframe tbody tr th {\n",
       "        vertical-align: top;\n",
       "    }\n",
       "\n",
       "    .dataframe thead th {\n",
       "        text-align: right;\n",
       "    }\n",
       "</style>\n",
       "<table border=\"1\" class=\"dataframe\">\n",
       "  <thead>\n",
       "    <tr style=\"text-align: right;\">\n",
       "      <th></th>\n",
       "      <th>name</th>\n",
       "      <th>description</th>\n",
       "      <th>language</th>\n",
       "      <th>cosine_similarity_score</th>\n",
       "    </tr>\n",
       "  </thead>\n",
       "  <tbody>\n",
       "    <tr>\n",
       "      <th>0</th>\n",
       "      <td>computer-vision</td>\n",
       "      <td>Computer Vision Applications</td>\n",
       "      <td>Python</td>\n",
       "      <td>0.895181</td>\n",
       "    </tr>\n",
       "    <tr>\n",
       "      <th>1</th>\n",
       "      <td>Computer-Vision</td>\n",
       "      <td>Computer Vision</td>\n",
       "      <td></td>\n",
       "      <td>0.891907</td>\n",
       "    </tr>\n",
       "    <tr>\n",
       "      <th>2</th>\n",
       "      <td>Computer-Vision-with-Python-3</td>\n",
       "      <td>Computer Vision with Python 3, published by Packt</td>\n",
       "      <td>Python</td>\n",
       "      <td>0.889605</td>\n",
       "    </tr>\n",
       "    <tr>\n",
       "      <th>3</th>\n",
       "      <td>Computer-Vision-with-Python-3</td>\n",
       "      <td>Computer Vision with Python 3, published by Packt</td>\n",
       "      <td></td>\n",
       "      <td>0.888058</td>\n",
       "    </tr>\n",
       "    <tr>\n",
       "      <th>4</th>\n",
       "      <td>Computer-Vision-with-Python-3</td>\n",
       "      <td>Computer Vision with Python 3, published by Packt</td>\n",
       "      <td></td>\n",
       "      <td>0.888058</td>\n",
       "    </tr>\n",
       "    <tr>\n",
       "      <th>5</th>\n",
       "      <td>Computer-Vision-with-Python-3</td>\n",
       "      <td>Computer Vision with Python 3, published by Packt</td>\n",
       "      <td></td>\n",
       "      <td>0.888058</td>\n",
       "    </tr>\n",
       "    <tr>\n",
       "      <th>6</th>\n",
       "      <td>computer-vision</td>\n",
       "      <td>No description</td>\n",
       "      <td>Python</td>\n",
       "      <td>0.884376</td>\n",
       "    </tr>\n",
       "    <tr>\n",
       "      <th>7</th>\n",
       "      <td>computer-vision</td>\n",
       "      <td>No description</td>\n",
       "      <td>Python</td>\n",
       "      <td>0.884376</td>\n",
       "    </tr>\n",
       "    <tr>\n",
       "      <th>8</th>\n",
       "      <td>Python-3.x-for-Computer-Vision</td>\n",
       "      <td>No description</td>\n",
       "      <td></td>\n",
       "      <td>0.863562</td>\n",
       "    </tr>\n",
       "    <tr>\n",
       "      <th>9</th>\n",
       "      <td>Computer-vision</td>\n",
       "      <td>Computer Vision implementation</td>\n",
       "      <td></td>\n",
       "      <td>0.860605</td>\n",
       "    </tr>\n",
       "  </tbody>\n",
       "</table>\n",
       "</div>"
      ],
      "text/plain": [
       "                             name  \\\n",
       "0                 computer-vision   \n",
       "1                 Computer-Vision   \n",
       "2   Computer-Vision-with-Python-3   \n",
       "3   Computer-Vision-with-Python-3   \n",
       "4   Computer-Vision-with-Python-3   \n",
       "5   Computer-Vision-with-Python-3   \n",
       "6                 computer-vision   \n",
       "7                 computer-vision   \n",
       "8  Python-3.x-for-Computer-Vision   \n",
       "9                 Computer-vision   \n",
       "\n",
       "                                         description language  \\\n",
       "0                       Computer Vision Applications   Python   \n",
       "1                                    Computer Vision            \n",
       "2  Computer Vision with Python 3, published by Packt   Python   \n",
       "3  Computer Vision with Python 3, published by Packt            \n",
       "4  Computer Vision with Python 3, published by Packt            \n",
       "5  Computer Vision with Python 3, published by Packt            \n",
       "6                                     No description   Python   \n",
       "7                                     No description   Python   \n",
       "8                                     No description            \n",
       "9                     Computer Vision implementation            \n",
       "\n",
       "   cosine_similarity_score  \n",
       "0                 0.895181  \n",
       "1                 0.891907  \n",
       "2                 0.889605  \n",
       "3                 0.888058  \n",
       "4                 0.888058  \n",
       "5                 0.888058  \n",
       "6                 0.884376  \n",
       "7                 0.884376  \n",
       "8                 0.863562  \n",
       "9                 0.860605  "
      ]
     },
     "execution_count": 13,
     "metadata": {},
     "output_type": "execute_result"
    }
   ],
   "source": [
    "recommended_repos"
   ]
  }
 ],
 "metadata": {
  "kernelspec": {
   "display_name": "codecompassvenv",
   "language": "python",
   "name": "python3"
  },
  "language_info": {
   "codemirror_mode": {
    "name": "ipython",
    "version": 3
   },
   "file_extension": ".py",
   "mimetype": "text/x-python",
   "name": "python",
   "nbconvert_exporter": "python",
   "pygments_lexer": "ipython3",
   "version": "3.9.18"
  }
 },
 "nbformat": 4,
 "nbformat_minor": 2
}
